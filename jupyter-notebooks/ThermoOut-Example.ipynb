{
 "cells": [
  {
   "cell_type": "markdown",
   "id": "3b386dde-05cb-462a-a694-069694e5069f",
   "metadata": {},
   "source": [
    "# Example use of the ThermoOut class\n",
    "\n",
    "The `ThermoOut` class object can be used to read in thermodynamic data written to LAMMPS log files (or in files from std out redirects) as controlled by the `thermo` and `thermo_style` commands. The `ThermoOut` class will parse the LAMMPS log file and extract the thermodynamic data into a [Pandas DataFrame](https://pandas.pydata.org/). Kaggle has a nice [Learn module on Pandas](https://www.kaggle.com/learn/pandas) if you are unfamiliar with Pandas and using its DataFrame objects.  \n",
    "\n",
    "In this example, we will read a LAMMPS log file, typically named `log.lammps`. This file is included in the `sample-data/thermo-out` folder and is the thermo output from three different runs. The first is a minimization, the second is under NVT conditions, and the third is under NPT conditions. We will go over how to use the `ThermoOut` class to parse these sets of thermodynamic data."
   ]
  },
  {
   "cell_type": "markdown",
   "id": "12bbb26a-cb73-446e-8296-6d711a11c121",
   "metadata": {},
   "source": [
    "First, we can import the `ThermoOut` class from the lmp_post package:"
   ]
  },
  {
   "cell_type": "code",
   "execution_count": 1,
   "id": "1e1874b2-5973-4cd9-b0ac-12f8d956b1a0",
   "metadata": {},
   "outputs": [],
   "source": [
    "from lmp_post import ThermoOut"
   ]
  },
  {
   "cell_type": "markdown",
   "id": "64d89412-ebc3-4ddd-9aea-30cf233b6adf",
   "metadata": {},
   "source": [
    "We will also import the standard library package `os` to handle file paths:"
   ]
  },
  {
   "cell_type": "code",
   "execution_count": 2,
   "id": "b10e96db-4280-4070-8fe0-228797d7f556",
   "metadata": {},
   "outputs": [],
   "source": [
    "import os"
   ]
  },
  {
   "cell_type": "markdown",
   "id": "46e6209b-ae5c-47c7-9582-e80d55a059c2",
   "metadata": {},
   "source": [
    "Then let's set the file and path to access it from the `sample-data` folder:"
   ]
  },
  {
   "cell_type": "code",
   "execution_count": 3,
   "id": "8c51aa95-2be2-45eb-9982-ea26fe6500bf",
   "metadata": {},
   "outputs": [],
   "source": [
    "file = os.path.abspath('../sample-data/thermo-out/log.lammps')"
   ]
  },
  {
   "cell_type": "markdown",
   "id": "cc46a53a-1b61-4d28-b4bd-1765395c15cf",
   "metadata": {
    "tags": []
   },
   "source": [
    "## 1 Read the first set of thermodynamic data from log.lammps\n",
    "\n",
    "The first set of thermodynmic outputs are from a call to the `minimize` command. To read this one in we can instantiate an instance of the `ThermoOut` class with the log file: "
   ]
  },
  {
   "cell_type": "code",
   "execution_count": 4,
   "id": "229dda18-b920-4fa6-885c-2b489eea3c41",
   "metadata": {},
   "outputs": [],
   "source": [
    "thermo_out_min = ThermoOut(file)"
   ]
  },
  {
   "cell_type": "markdown",
   "id": "5a25c083-645e-495f-9dee-b6ea7938bad8",
   "metadata": {},
   "source": [
    "For the `ThermoOut` class the data is parsed into a Pandas DataFrame accessible with the `data` attribute:"
   ]
  },
  {
   "cell_type": "code",
   "execution_count": 5,
   "id": "22ab14e1-9d91-4056-a5fc-95e6011accbe",
   "metadata": {},
   "outputs": [],
   "source": [
    "data_min = thermo_out_min.data"
   ]
  },
  {
   "cell_type": "code",
   "execution_count": 6,
   "id": "917384d2-d98a-494a-88de-48262888c62d",
   "metadata": {},
   "outputs": [
    {
     "data": {
      "text/plain": [
       "pandas.core.frame.DataFrame"
      ]
     },
     "execution_count": 6,
     "metadata": {},
     "output_type": "execute_result"
    }
   ],
   "source": [
    "type(data_min)"
   ]
  },
  {
   "cell_type": "markdown",
   "id": "356b302b-abf0-4671-a233-397ff6b5175e",
   "metadata": {},
   "source": [
    "We can then use the data and perform any Pandas DataFrame operations as needed. For example, let's call the head function (similar to using the `head` command from Linux command line):"
   ]
  },
  {
   "cell_type": "code",
   "execution_count": 7,
   "id": "f05b0016-a1dc-437e-916c-50ee559f6978",
   "metadata": {},
   "outputs": [
    {
     "data": {
      "text/html": [
       "<div>\n",
       "<style scoped>\n",
       "    .dataframe tbody tr th:only-of-type {\n",
       "        vertical-align: middle;\n",
       "    }\n",
       "\n",
       "    .dataframe tbody tr th {\n",
       "        vertical-align: top;\n",
       "    }\n",
       "\n",
       "    .dataframe thead th {\n",
       "        text-align: right;\n",
       "    }\n",
       "</style>\n",
       "<table border=\"1\" class=\"dataframe\">\n",
       "  <thead>\n",
       "    <tr style=\"text-align: right;\">\n",
       "      <th></th>\n",
       "      <th>Step</th>\n",
       "      <th>Temp</th>\n",
       "      <th>Press</th>\n",
       "      <th>Enthalpy</th>\n",
       "      <th>Lx</th>\n",
       "      <th>Ly</th>\n",
       "      <th>Lz</th>\n",
       "    </tr>\n",
       "  </thead>\n",
       "  <tbody>\n",
       "    <tr>\n",
       "      <th>0</th>\n",
       "      <td>0</td>\n",
       "      <td>0.0</td>\n",
       "      <td>535562.270</td>\n",
       "      <td>1088094.800</td>\n",
       "      <td>140.0</td>\n",
       "      <td>140.0</td>\n",
       "      <td>140.0</td>\n",
       "    </tr>\n",
       "    <tr>\n",
       "      <th>1</th>\n",
       "      <td>100</td>\n",
       "      <td>0.0</td>\n",
       "      <td>-10081.277</td>\n",
       "      <td>-71054.114</td>\n",
       "      <td>140.0</td>\n",
       "      <td>140.0</td>\n",
       "      <td>140.0</td>\n",
       "    </tr>\n",
       "  </tbody>\n",
       "</table>\n",
       "</div>"
      ],
      "text/plain": [
       "   Step  Temp       Press     Enthalpy     Lx     Ly     Lz\n",
       "0     0   0.0  535562.270  1088094.800  140.0  140.0  140.0\n",
       "1   100   0.0  -10081.277   -71054.114  140.0  140.0  140.0"
      ]
     },
     "execution_count": 7,
     "metadata": {},
     "output_type": "execute_result"
    }
   ],
   "source": [
    "data_min.head()"
   ]
  },
  {
   "cell_type": "markdown",
   "id": "150bcda3-6112-45f7-add9-360eac4a6308",
   "metadata": {},
   "source": [
    "Or to access the pressure, `Press`, data column:"
   ]
  },
  {
   "cell_type": "code",
   "execution_count": 8,
   "id": "7d0a54e0-c1b3-4c84-a011-1bdb82f3329c",
   "metadata": {},
   "outputs": [
    {
     "data": {
      "text/plain": [
       "0    535562.270\n",
       "1    -10081.277\n",
       "Name: Press, dtype: float64"
      ]
     },
     "execution_count": 8,
     "metadata": {},
     "output_type": "execute_result"
    }
   ],
   "source": [
    "data_min['Press']"
   ]
  },
  {
   "cell_type": "markdown",
   "id": "1836d3bb-4d59-4d98-b7fd-ea552ffc337f",
   "metadata": {
    "tags": []
   },
   "source": [
    "## 2 Read the second set of thermodynamic data from log.lammps\n",
    "\n",
    "As we noted previously, our log file contains three sets of thermodynamic outputs. The first set of was from a call to the `minimize` command. The seond set of thermodynamic outputs is from a NVT simulation run. To read this one in we can instantiate a new instance of the `ThermoOut` class with the log file and read the second set outputs by specifying the optional `run_number` argument: "
   ]
  },
  {
   "cell_type": "code",
   "execution_count": 9,
   "id": "52c047c7-8715-4265-8972-623a000e7fd4",
   "metadata": {},
   "outputs": [],
   "source": [
    "# Read the second set of thermodynic inputs by specifying \n",
    "# the run_number=1 (0 is the first and 1 is second).\n",
    "thermo_out_nvt = ThermoOut(file, run_number=1)"
   ]
  },
  {
   "cell_type": "markdown",
   "id": "259a7244-eb89-4a60-9f2f-90e9182f3509",
   "metadata": {},
   "source": [
    "Similarly, we can access the parsed data as a Pandas DataFrame:"
   ]
  },
  {
   "cell_type": "code",
   "execution_count": 10,
   "id": "84569cc4-a0fa-4cf5-af0c-4e243e904397",
   "metadata": {},
   "outputs": [
    {
     "data": {
      "text/plain": [
       "pandas.core.frame.DataFrame"
      ]
     },
     "execution_count": 10,
     "metadata": {},
     "output_type": "execute_result"
    }
   ],
   "source": [
    "data_nvt = thermo_out_nvt.data\n",
    "type(data_nvt)"
   ]
  },
  {
   "cell_type": "code",
   "execution_count": 11,
   "id": "3895b808-5839-46f7-9139-1371da735f7a",
   "metadata": {},
   "outputs": [
    {
     "data": {
      "text/html": [
       "<div>\n",
       "<style scoped>\n",
       "    .dataframe tbody tr th:only-of-type {\n",
       "        vertical-align: middle;\n",
       "    }\n",
       "\n",
       "    .dataframe tbody tr th {\n",
       "        vertical-align: top;\n",
       "    }\n",
       "\n",
       "    .dataframe thead th {\n",
       "        text-align: right;\n",
       "    }\n",
       "</style>\n",
       "<table border=\"1\" class=\"dataframe\">\n",
       "  <thead>\n",
       "    <tr style=\"text-align: right;\">\n",
       "      <th></th>\n",
       "      <th>Step</th>\n",
       "      <th>Temp</th>\n",
       "      <th>Press</th>\n",
       "      <th>Enthalpy</th>\n",
       "      <th>Lx</th>\n",
       "      <th>Ly</th>\n",
       "      <th>Lz</th>\n",
       "    </tr>\n",
       "  </thead>\n",
       "  <tbody>\n",
       "    <tr>\n",
       "      <th>0</th>\n",
       "      <td>100</td>\n",
       "      <td>300.00000</td>\n",
       "      <td>-6068.5802</td>\n",
       "      <td>-53873.050</td>\n",
       "      <td>140.0</td>\n",
       "      <td>140.0</td>\n",
       "      <td>140.0</td>\n",
       "    </tr>\n",
       "    <tr>\n",
       "      <th>1</th>\n",
       "      <td>1000</td>\n",
       "      <td>272.19280</td>\n",
       "      <td>-1934.1425</td>\n",
       "      <td>-40635.731</td>\n",
       "      <td>140.0</td>\n",
       "      <td>140.0</td>\n",
       "      <td>140.0</td>\n",
       "    </tr>\n",
       "    <tr>\n",
       "      <th>2</th>\n",
       "      <td>2000</td>\n",
       "      <td>299.02922</td>\n",
       "      <td>-1637.2042</td>\n",
       "      <td>-37968.001</td>\n",
       "      <td>140.0</td>\n",
       "      <td>140.0</td>\n",
       "      <td>140.0</td>\n",
       "    </tr>\n",
       "    <tr>\n",
       "      <th>3</th>\n",
       "      <td>3000</td>\n",
       "      <td>301.10310</td>\n",
       "      <td>-1098.6999</td>\n",
       "      <td>-37042.159</td>\n",
       "      <td>140.0</td>\n",
       "      <td>140.0</td>\n",
       "      <td>140.0</td>\n",
       "    </tr>\n",
       "    <tr>\n",
       "      <th>4</th>\n",
       "      <td>4000</td>\n",
       "      <td>299.90267</td>\n",
       "      <td>-1310.0251</td>\n",
       "      <td>-37569.372</td>\n",
       "      <td>140.0</td>\n",
       "      <td>140.0</td>\n",
       "      <td>140.0</td>\n",
       "    </tr>\n",
       "  </tbody>\n",
       "</table>\n",
       "</div>"
      ],
      "text/plain": [
       "   Step       Temp      Press   Enthalpy     Lx     Ly     Lz\n",
       "0   100  300.00000 -6068.5802 -53873.050  140.0  140.0  140.0\n",
       "1  1000  272.19280 -1934.1425 -40635.731  140.0  140.0  140.0\n",
       "2  2000  299.02922 -1637.2042 -37968.001  140.0  140.0  140.0\n",
       "3  3000  301.10310 -1098.6999 -37042.159  140.0  140.0  140.0\n",
       "4  4000  299.90267 -1310.0251 -37569.372  140.0  140.0  140.0"
      ]
     },
     "execution_count": 11,
     "metadata": {},
     "output_type": "execute_result"
    }
   ],
   "source": [
    "data_nvt.head()"
   ]
  },
  {
   "cell_type": "markdown",
   "id": "4e4b2ffa-35d8-4a69-9e59-c7a03e193f23",
   "metadata": {
    "tags": []
   },
   "source": [
    "## 3 Read the third set of thermodynamic data from log.lammps\n",
    "\n",
    "As we noted previously, our log file contains three sets of thermodynamic outputs. The first set of was from a call to the `minimize` command. The seond set of thermodynamic outputs is from a NVT simulation run. Now, the third one is from a NPT simulation run. To read this one in we can instantiate another instance of the `ThermoOut` class with the log file and read the third set outputs by specifying the optional `run_number` argument: "
   ]
  },
  {
   "cell_type": "code",
   "execution_count": 12,
   "id": "cb7de97c-e7fb-4912-92ea-01a1868d610b",
   "metadata": {},
   "outputs": [],
   "source": [
    "# Read the third set of thermodynic inputs by specifying \n",
    "# the run_number=2 (index 2 is the third one).\n",
    "thermo_out_npt = ThermoOut(file, run_number=2)"
   ]
  },
  {
   "cell_type": "markdown",
   "id": "3477530c-5e56-428e-a0ba-5ad5a7d88f4c",
   "metadata": {},
   "source": [
    "Similarly, we can access the parsed data as a Pandas DataFrame:"
   ]
  },
  {
   "cell_type": "code",
   "execution_count": 13,
   "id": "6d39a592-36f6-40e8-b66a-9e8db6ec7a8c",
   "metadata": {},
   "outputs": [
    {
     "data": {
      "text/plain": [
       "pandas.core.frame.DataFrame"
      ]
     },
     "execution_count": 13,
     "metadata": {},
     "output_type": "execute_result"
    }
   ],
   "source": [
    "data_npt = thermo_out_npt.data\n",
    "type(data_npt)"
   ]
  },
  {
   "cell_type": "code",
   "execution_count": 14,
   "id": "ee97e85a-c107-4b11-8bf9-8acaeef6f228",
   "metadata": {},
   "outputs": [
    {
     "data": {
      "text/html": [
       "<div>\n",
       "<style scoped>\n",
       "    .dataframe tbody tr th:only-of-type {\n",
       "        vertical-align: middle;\n",
       "    }\n",
       "\n",
       "    .dataframe tbody tr th {\n",
       "        vertical-align: top;\n",
       "    }\n",
       "\n",
       "    .dataframe thead th {\n",
       "        text-align: right;\n",
       "    }\n",
       "</style>\n",
       "<table border=\"1\" class=\"dataframe\">\n",
       "  <thead>\n",
       "    <tr style=\"text-align: right;\">\n",
       "      <th></th>\n",
       "      <th>Step</th>\n",
       "      <th>Temp</th>\n",
       "      <th>Press</th>\n",
       "      <th>Enthalpy</th>\n",
       "      <th>Lx</th>\n",
       "      <th>Ly</th>\n",
       "      <th>Lz</th>\n",
       "    </tr>\n",
       "  </thead>\n",
       "  <tbody>\n",
       "    <tr>\n",
       "      <th>0</th>\n",
       "      <td>0</td>\n",
       "      <td>299.79905</td>\n",
       "      <td>-1260.271200</td>\n",
       "      <td>-37955.703</td>\n",
       "      <td>140.00000</td>\n",
       "      <td>140.00000</td>\n",
       "      <td>140.00000</td>\n",
       "    </tr>\n",
       "    <tr>\n",
       "      <th>1</th>\n",
       "      <td>1000</td>\n",
       "      <td>299.63241</td>\n",
       "      <td>-208.694470</td>\n",
       "      <td>-36401.703</td>\n",
       "      <td>138.64367</td>\n",
       "      <td>138.64367</td>\n",
       "      <td>138.64367</td>\n",
       "    </tr>\n",
       "    <tr>\n",
       "      <th>2</th>\n",
       "      <td>2000</td>\n",
       "      <td>299.72866</td>\n",
       "      <td>-59.342009</td>\n",
       "      <td>-36176.636</td>\n",
       "      <td>138.11380</td>\n",
       "      <td>138.11380</td>\n",
       "      <td>138.11380</td>\n",
       "    </tr>\n",
       "    <tr>\n",
       "      <th>3</th>\n",
       "      <td>3000</td>\n",
       "      <td>299.85732</td>\n",
       "      <td>-135.196210</td>\n",
       "      <td>-36275.793</td>\n",
       "      <td>137.82904</td>\n",
       "      <td>137.82904</td>\n",
       "      <td>137.82904</td>\n",
       "    </tr>\n",
       "    <tr>\n",
       "      <th>4</th>\n",
       "      <td>4000</td>\n",
       "      <td>299.84504</td>\n",
       "      <td>-108.301940</td>\n",
       "      <td>-36270.447</td>\n",
       "      <td>137.60678</td>\n",
       "      <td>137.60678</td>\n",
       "      <td>137.60678</td>\n",
       "    </tr>\n",
       "  </tbody>\n",
       "</table>\n",
       "</div>"
      ],
      "text/plain": [
       "   Step       Temp        Press   Enthalpy         Lx         Ly         Lz\n",
       "0     0  299.79905 -1260.271200 -37955.703  140.00000  140.00000  140.00000\n",
       "1  1000  299.63241  -208.694470 -36401.703  138.64367  138.64367  138.64367\n",
       "2  2000  299.72866   -59.342009 -36176.636  138.11380  138.11380  138.11380\n",
       "3  3000  299.85732  -135.196210 -36275.793  137.82904  137.82904  137.82904\n",
       "4  4000  299.84504  -108.301940 -36270.447  137.60678  137.60678  137.60678"
      ]
     },
     "execution_count": 14,
     "metadata": {},
     "output_type": "execute_result"
    }
   ],
   "source": [
    "data_npt.head()"
   ]
  }
 ],
 "metadata": {
  "kernelspec": {
   "display_name": "Python 3 (ipykernel)",
   "language": "python",
   "name": "python3"
  },
  "language_info": {
   "codemirror_mode": {
    "name": "ipython",
    "version": 3
   },
   "file_extension": ".py",
   "mimetype": "text/x-python",
   "name": "python",
   "nbconvert_exporter": "python",
   "pygments_lexer": "ipython3",
   "version": "3.12.4"
  }
 },
 "nbformat": 4,
 "nbformat_minor": 5
}
